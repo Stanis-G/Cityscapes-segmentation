{
 "cells": [
  {
   "cell_type": "markdown",
   "metadata": {},
   "source": [
    "Dataset is taken from https://www.kaggle.com/datasets/dansbecker/cityscapes-image-pairs?select=cityscapes_data"
   ]
  },
  {
   "cell_type": "code",
   "execution_count": 1,
   "metadata": {},
   "outputs": [],
   "source": [
    "import torch\n",
    "from torch import nn\n",
    "from torch.nn.functional import leaky_relu\n",
    "from torch.optim import Adam\n",
    "from torch.utils.data import DataLoader\n",
    "from torch.optim.lr_scheduler import StepLR\n",
    "\n",
    "from func import CustomData, pixel_accuracy, dsc_score, CrossEntropyWithDiceLoss, plot_learning_curve, mask2image, plot_masks"
   ]
  },
  {
   "cell_type": "code",
   "execution_count": null,
   "metadata": {},
   "outputs": [],
   "source": [
    "class ConvCell(nn.Module):\n",
    "    \n",
    "    def __init__(self, in_channels, out_channels, conv_kernel_size, padding, pool_kernel_size, pool_stride, negative_slope):\n",
    "        super().__init__()\n",
    "        self.negative_slope = negative_slope\n",
    "        self.conv = nn.Conv2d(in_channels, out_channels, kernel_size=conv_kernel_size, padding=padding)\n",
    "        nn.init.kaiming_normal_(self.conv.weight, nonlinearity='leaky_relu', a=self.negative_slope)\n",
    "        self.maxpool = nn.MaxPool2d(kernel_size=pool_kernel_size, stride=pool_stride)\n",
    "        self.batchnorm = nn.BatchNorm2d(out_channels)\n",
    "\n",
    "    def forward(self, x):\n",
    "        x = self.conv(x)\n",
    "        x = leaky_relu(x, negative_slope=self.negative_slope)\n",
    "        x = self.maxpool(x)\n",
    "        x = self.batchnorm(x)\n",
    "        return x\n",
    "        \n",
    "\n",
    "class Encoder(nn.Module):\n",
    "    \n",
    "    def __init__(self, negative_slope):\n",
    "        super().__init__()\n",
    "        self.convcell1 = ConvCell(3, 10, (3,3), 'same', (2,2), 2, negative_slope)\n",
    "        self.convcell2 = ConvCell(10, 20, (3,3), 'same', (2,2), 2, negative_slope)\n",
    "        self.convcell3 = ConvCell(20, 40, (3,3), 'same', (2,2), 2, negative_slope)\n",
    "        self.convcell4 = ConvCell(40, 60, (3,3), 'same', (2,2), 2, negative_slope)\n",
    "        self.convcell5 = ConvCell(60, 80, (3,3), 'same', (2,2), 2, negative_slope)\n",
    "\n",
    "    def forward(self, x):\n",
    "        x = self.convcell1(x)\n",
    "        x = self.convcell2(x)\n",
    "        x = self.convcell3(x)\n",
    "        x = self.convcell4(x)\n",
    "        x = self.convcell5(x)\n",
    "        return x\n",
    "\n",
    "\n",
    "class FCN(nn.Module):\n",
    "\n",
    "    def __init__(self, negative_slope):\n",
    "        super().__init__()\n",
    "        self.negative_slope = negative_slope\n",
    "        self.encoder = Encoder(self.negative_slope)\n",
    "        self.deconv1 = nn.ConvTranspose2d(80, 100, kernel_size=(3, 3), dilation=4)\n",
    "        nn.init.kaiming_normal_(self.deconv1.weight, nonlinearity='leaky_relu', a=self.negative_slope)\n",
    "        self.deconv2 = nn.ConvTranspose2d(100, 120, kernel_size=(3, 3), dilation=8)\n",
    "        nn.init.kaiming_normal_(self.deconv2.weight, nonlinearity='leaky_relu', a=self.negative_slope)\n",
    "        self.deconv3 = nn.ConvTranspose2d(120, 140, kernel_size=(3, 3), dilation=16)\n",
    "        nn.init.kaiming_normal_(self.deconv3.weight, nonlinearity='leaky_relu', a=self.negative_slope)\n",
    "        self.deconv4 = nn.ConvTranspose2d(140, 160, kernel_size=(3, 3), dilation=32)\n",
    "        nn.init.kaiming_normal_(self.deconv4.weight, nonlinearity='leaky_relu', a=self.negative_slope)\n",
    "        self.deconv5 = nn.ConvTranspose2d(160, 19, kernel_size=(3, 3), dilation=64)\n",
    "        self.batchnorm1 = nn.BatchNorm2d(100)\n",
    "        self.batchnorm2 = nn.BatchNorm2d(120)\n",
    "        self.batchnorm3 = nn.BatchNorm2d(140)\n",
    "        self.batchnorm4 = nn.BatchNorm2d(160)\n",
    "\n",
    "    def forward(self, x):\n",
    "        x = self.encoder(x)\n",
    "        x = self.deconv1(x)\n",
    "        x = leaky_relu(x, negative_slope=self.negative_slope)\n",
    "        x = self.batchnorm1(x)\n",
    "        x = self.deconv2(x)\n",
    "        x = leaky_relu(x, negative_slope=self.negative_slope)\n",
    "        x = self.batchnorm2(x)\n",
    "        x = self.deconv3(x)\n",
    "        x = leaky_relu(x, negative_slope=self.negative_slope)\n",
    "        x = self.batchnorm3(x)\n",
    "        x = self.deconv4(x)\n",
    "        x = leaky_relu(x, negative_slope=self.negative_slope)\n",
    "        x = self.batchnorm4(x)\n",
    "        x = self.deconv5(x)\n",
    "        # x = softmax(x, dim=0) # No softmax because CrossEntropyLoss accepts logits\n",
    "        return x\n"
   ]
  },
  {
   "cell_type": "code",
   "execution_count": 3,
   "metadata": {},
   "outputs": [
    {
     "name": "stdout",
     "output_type": "stream",
     "text": [
      "2975 500\n"
     ]
    }
   ],
   "source": [
    "dataset_train = CustomData('train')\n",
    "dataset_valid = CustomData('val')\n",
    "\n",
    "print(len(dataset_train), len(dataset_valid))"
   ]
  },
  {
   "cell_type": "code",
   "execution_count": 4,
   "metadata": {},
   "outputs": [],
   "source": [
    "batch_size = 32\n",
    "\n",
    "data_train = DataLoader(dataset_train, batch_size=batch_size, shuffle=True)\n",
    "data_valid = DataLoader(dataset_valid, batch_size=batch_size, shuffle=False)"
   ]
  },
  {
   "cell_type": "code",
   "execution_count": 5,
   "metadata": {},
   "outputs": [
    {
     "data": {
      "text/plain": [
       "'cuda'"
      ]
     },
     "execution_count": 5,
     "metadata": {},
     "output_type": "execute_result"
    }
   ],
   "source": [
    "device = 'cuda' if torch.cuda.is_available() else 'cpu'\n",
    "device"
   ]
  },
  {
   "cell_type": "code",
   "execution_count": 6,
   "metadata": {},
   "outputs": [],
   "source": [
    "def train(data_train, lr, n_epochs, device, seed=None):\n",
    "\n",
    "    if seed is not None:\n",
    "        # Set seed for reproducibility\n",
    "        torch.manual_seed(seed)\n",
    "        torch.cuda.manual_seed_all(seed)\n",
    "\n",
    "    model = FCN(negative_slope=0.1)\n",
    "    model = model.to(device)\n",
    "\n",
    "    optimizer = Adam(params=model.parameters(), lr=lr)\n",
    "    # scheduler = StepLR(optimizer, step_size=10, gamma=0.1)\n",
    "    loss_func = CrossEntropyWithDiceLoss()\n",
    "\n",
    "    train_loss_lst = []\n",
    "    valid_loss_lst = []\n",
    "    train_accuracy_lst = []\n",
    "    valid_accuracy_lst = []\n",
    "    train_dsc_lst = []\n",
    "    valid_dsc_lst = []\n",
    "\n",
    "    for epoch in range(n_epochs):\n",
    "        train_loss = 0\n",
    "        train_acc = 0\n",
    "        train_dsc = 0\n",
    "        model.train()\n",
    "        for x_train, y_train in data_train:\n",
    "\n",
    "            x_train = x_train.to(device)\n",
    "            y_train = y_train.to(device)\n",
    "\n",
    "            predict = model(x_train)\n",
    "            loss = loss_func(predict, y_train.long())\n",
    "\n",
    "            optimizer.zero_grad()\n",
    "            loss.backward()\n",
    "            optimizer.step()\n",
    "            # scheduler.step()\n",
    "\n",
    "            train_loss += loss.item()\n",
    "            train_acc += pixel_accuracy(predict, y_train)\n",
    "            train_dsc += dsc_score(predict, y_train.long())\n",
    "\n",
    "        # Take mean of metrics by all batches, add to list for history\n",
    "        train_loss /= len(data_train)\n",
    "        train_loss_lst.append(train_loss)\n",
    "        train_acc /= len(data_train)\n",
    "        train_accuracy_lst.append(train_acc)\n",
    "        train_dsc /= len(data_train)\n",
    "        train_dsc_lst.append(train_dsc)\n",
    "\n",
    "        # Validation\n",
    "        valid_loss = 0\n",
    "        valid_acc = 0\n",
    "        valid_dsc = 0\n",
    "        model.eval()\n",
    "        with torch.no_grad():\n",
    "            for x_valid, y_valid in data_valid:\n",
    "                x_valid, y_valid = x_valid.to(device), y_valid.to(device)\n",
    "                predict = model(x_valid)\n",
    "                valid_loss += loss_func(predict, y_valid.long()).item()\n",
    "                valid_acc += pixel_accuracy(predict, y_valid)\n",
    "                valid_dsc += dsc_score(predict, y_valid.long())\n",
    "\n",
    "        # Take mean of metrics by all batches, add to list for history\n",
    "        valid_loss /= len(data_valid)\n",
    "        valid_loss_lst.append(valid_loss)\n",
    "        valid_acc /= len(data_valid)\n",
    "        valid_accuracy_lst.append(valid_acc)\n",
    "        valid_dsc /= len(data_valid)\n",
    "        valid_dsc_lst.append(valid_dsc)\n",
    "\n",
    "        print(f'Epoch {epoch+1} | Train Loss: {train_loss:.4f} | Train Accuracy: {train_acc:.4f}| Valid Loss: {valid_loss:.4f} | Valid Accuracy: {valid_acc:.4f}')\n",
    "\n",
    "    history_loss = dict(\n",
    "        train_loss=train_loss_lst,\n",
    "        valid_loss=valid_loss_lst,\n",
    "    )\n",
    "\n",
    "    history_accuracy = dict(\n",
    "        train_accuracy=train_accuracy_lst,\n",
    "        valid_accuracy=valid_accuracy_lst,\n",
    "    )\n",
    "\n",
    "    history_dsc = dict(\n",
    "        train_dsc=train_dsc_lst,\n",
    "        valid_dsc=valid_dsc_lst,\n",
    "    )\n",
    "\n",
    "    return model, history_loss, history_accuracy, history_dsc"
   ]
  },
  {
   "cell_type": "code",
   "execution_count": 9,
   "metadata": {},
   "outputs": [
    {
     "name": "stdout",
     "output_type": "stream",
     "text": [
      "Epoch 1 | Train Loss: 9179247661283.7520 | Train Accuracy: 0.3216| Valid Loss: 43970795776.0000 | Valid Accuracy: 0.4126\n",
      "Epoch 2 | Train Loss: 61032921165.0753 | Train Accuracy: 0.4316| Valid Loss: 14147872192.0000 | Valid Accuracy: 0.4475\n"
     ]
    },
    {
     "ename": "KeyboardInterrupt",
     "evalue": "",
     "output_type": "error",
     "traceback": [
      "\u001b[1;31m---------------------------------------------------------------------------\u001b[0m",
      "\u001b[1;31mKeyboardInterrupt\u001b[0m                         Traceback (most recent call last)",
      "Cell \u001b[1;32mIn[9], line 1\u001b[0m\n\u001b[1;32m----> 1\u001b[0m net, history_loss, history_accuracy, history_dsc \u001b[38;5;241m=\u001b[39m \u001b[43mtrain\u001b[49m\u001b[43m(\u001b[49m\u001b[43mdata_train\u001b[49m\u001b[43m,\u001b[49m\u001b[43m \u001b[49m\u001b[43mlr\u001b[49m\u001b[38;5;241;43m=\u001b[39;49m\u001b[38;5;241;43m0.2\u001b[39;49m\u001b[43m,\u001b[49m\u001b[43m \u001b[49m\u001b[43mn_epochs\u001b[49m\u001b[38;5;241;43m=\u001b[39;49m\u001b[38;5;241;43m50\u001b[39;49m\u001b[43m,\u001b[49m\u001b[43m \u001b[49m\u001b[43mdevice\u001b[49m\u001b[38;5;241;43m=\u001b[39;49m\u001b[43mdevice\u001b[49m\u001b[43m,\u001b[49m\u001b[43m \u001b[49m\u001b[43mseed\u001b[49m\u001b[38;5;241;43m=\u001b[39;49m\u001b[38;5;241;43m0\u001b[39;49m\u001b[43m)\u001b[49m\n",
      "Cell \u001b[1;32mIn[6], line 58\u001b[0m, in \u001b[0;36mtrain\u001b[1;34m(data_train, lr, n_epochs, device, seed)\u001b[0m\n\u001b[0;32m     56\u001b[0m model\u001b[38;5;241m.\u001b[39meval()\n\u001b[0;32m     57\u001b[0m \u001b[38;5;28;01mwith\u001b[39;00m torch\u001b[38;5;241m.\u001b[39mno_grad():\n\u001b[1;32m---> 58\u001b[0m     \u001b[38;5;28;01mfor\u001b[39;00m x_valid, y_valid \u001b[38;5;129;01min\u001b[39;00m data_valid:\n\u001b[0;32m     59\u001b[0m         x_valid, y_valid \u001b[38;5;241m=\u001b[39m x_valid\u001b[38;5;241m.\u001b[39mto(device), y_valid\u001b[38;5;241m.\u001b[39mto(device)\n\u001b[0;32m     60\u001b[0m         predict \u001b[38;5;241m=\u001b[39m model(x_valid)\n",
      "File \u001b[1;32mc:\\Users\\Stas\\anaconda3\\envs\\pytorch_env\\lib\\site-packages\\torch\\utils\\data\\dataloader.py:630\u001b[0m, in \u001b[0;36m_BaseDataLoaderIter.__next__\u001b[1;34m(self)\u001b[0m\n\u001b[0;32m    627\u001b[0m \u001b[38;5;28;01mif\u001b[39;00m \u001b[38;5;28mself\u001b[39m\u001b[38;5;241m.\u001b[39m_sampler_iter \u001b[38;5;129;01mis\u001b[39;00m \u001b[38;5;28;01mNone\u001b[39;00m:\n\u001b[0;32m    628\u001b[0m     \u001b[38;5;66;03m# TODO(https://github.com/pytorch/pytorch/issues/76750)\u001b[39;00m\n\u001b[0;32m    629\u001b[0m     \u001b[38;5;28mself\u001b[39m\u001b[38;5;241m.\u001b[39m_reset()  \u001b[38;5;66;03m# type: ignore[call-arg]\u001b[39;00m\n\u001b[1;32m--> 630\u001b[0m data \u001b[38;5;241m=\u001b[39m \u001b[38;5;28;43mself\u001b[39;49m\u001b[38;5;241;43m.\u001b[39;49m\u001b[43m_next_data\u001b[49m\u001b[43m(\u001b[49m\u001b[43m)\u001b[49m\n\u001b[0;32m    631\u001b[0m \u001b[38;5;28mself\u001b[39m\u001b[38;5;241m.\u001b[39m_num_yielded \u001b[38;5;241m+\u001b[39m\u001b[38;5;241m=\u001b[39m \u001b[38;5;241m1\u001b[39m\n\u001b[0;32m    632\u001b[0m \u001b[38;5;28;01mif\u001b[39;00m \u001b[38;5;28mself\u001b[39m\u001b[38;5;241m.\u001b[39m_dataset_kind \u001b[38;5;241m==\u001b[39m _DatasetKind\u001b[38;5;241m.\u001b[39mIterable \u001b[38;5;129;01mand\u001b[39;00m \\\n\u001b[0;32m    633\u001b[0m         \u001b[38;5;28mself\u001b[39m\u001b[38;5;241m.\u001b[39m_IterableDataset_len_called \u001b[38;5;129;01mis\u001b[39;00m \u001b[38;5;129;01mnot\u001b[39;00m \u001b[38;5;28;01mNone\u001b[39;00m \u001b[38;5;129;01mand\u001b[39;00m \\\n\u001b[0;32m    634\u001b[0m         \u001b[38;5;28mself\u001b[39m\u001b[38;5;241m.\u001b[39m_num_yielded \u001b[38;5;241m>\u001b[39m \u001b[38;5;28mself\u001b[39m\u001b[38;5;241m.\u001b[39m_IterableDataset_len_called:\n",
      "File \u001b[1;32mc:\\Users\\Stas\\anaconda3\\envs\\pytorch_env\\lib\\site-packages\\torch\\utils\\data\\dataloader.py:673\u001b[0m, in \u001b[0;36m_SingleProcessDataLoaderIter._next_data\u001b[1;34m(self)\u001b[0m\n\u001b[0;32m    671\u001b[0m \u001b[38;5;28;01mdef\u001b[39;00m \u001b[38;5;21m_next_data\u001b[39m(\u001b[38;5;28mself\u001b[39m):\n\u001b[0;32m    672\u001b[0m     index \u001b[38;5;241m=\u001b[39m \u001b[38;5;28mself\u001b[39m\u001b[38;5;241m.\u001b[39m_next_index()  \u001b[38;5;66;03m# may raise StopIteration\u001b[39;00m\n\u001b[1;32m--> 673\u001b[0m     data \u001b[38;5;241m=\u001b[39m \u001b[38;5;28;43mself\u001b[39;49m\u001b[38;5;241;43m.\u001b[39;49m\u001b[43m_dataset_fetcher\u001b[49m\u001b[38;5;241;43m.\u001b[39;49m\u001b[43mfetch\u001b[49m\u001b[43m(\u001b[49m\u001b[43mindex\u001b[49m\u001b[43m)\u001b[49m  \u001b[38;5;66;03m# may raise StopIteration\u001b[39;00m\n\u001b[0;32m    674\u001b[0m     \u001b[38;5;28;01mif\u001b[39;00m \u001b[38;5;28mself\u001b[39m\u001b[38;5;241m.\u001b[39m_pin_memory:\n\u001b[0;32m    675\u001b[0m         data \u001b[38;5;241m=\u001b[39m _utils\u001b[38;5;241m.\u001b[39mpin_memory\u001b[38;5;241m.\u001b[39mpin_memory(data, \u001b[38;5;28mself\u001b[39m\u001b[38;5;241m.\u001b[39m_pin_memory_device)\n",
      "File \u001b[1;32mc:\\Users\\Stas\\anaconda3\\envs\\pytorch_env\\lib\\site-packages\\torch\\utils\\data\\_utils\\fetch.py:52\u001b[0m, in \u001b[0;36m_MapDatasetFetcher.fetch\u001b[1;34m(self, possibly_batched_index)\u001b[0m\n\u001b[0;32m     50\u001b[0m         data \u001b[38;5;241m=\u001b[39m \u001b[38;5;28mself\u001b[39m\u001b[38;5;241m.\u001b[39mdataset\u001b[38;5;241m.\u001b[39m__getitems__(possibly_batched_index)\n\u001b[0;32m     51\u001b[0m     \u001b[38;5;28;01melse\u001b[39;00m:\n\u001b[1;32m---> 52\u001b[0m         data \u001b[38;5;241m=\u001b[39m [\u001b[38;5;28mself\u001b[39m\u001b[38;5;241m.\u001b[39mdataset[idx] \u001b[38;5;28;01mfor\u001b[39;00m idx \u001b[38;5;129;01min\u001b[39;00m possibly_batched_index]\n\u001b[0;32m     53\u001b[0m \u001b[38;5;28;01melse\u001b[39;00m:\n\u001b[0;32m     54\u001b[0m     data \u001b[38;5;241m=\u001b[39m \u001b[38;5;28mself\u001b[39m\u001b[38;5;241m.\u001b[39mdataset[possibly_batched_index]\n",
      "File \u001b[1;32mc:\\Users\\Stas\\anaconda3\\envs\\pytorch_env\\lib\\site-packages\\torch\\utils\\data\\_utils\\fetch.py:52\u001b[0m, in \u001b[0;36m<listcomp>\u001b[1;34m(.0)\u001b[0m\n\u001b[0;32m     50\u001b[0m         data \u001b[38;5;241m=\u001b[39m \u001b[38;5;28mself\u001b[39m\u001b[38;5;241m.\u001b[39mdataset\u001b[38;5;241m.\u001b[39m__getitems__(possibly_batched_index)\n\u001b[0;32m     51\u001b[0m     \u001b[38;5;28;01melse\u001b[39;00m:\n\u001b[1;32m---> 52\u001b[0m         data \u001b[38;5;241m=\u001b[39m [\u001b[38;5;28;43mself\u001b[39;49m\u001b[38;5;241;43m.\u001b[39;49m\u001b[43mdataset\u001b[49m\u001b[43m[\u001b[49m\u001b[43midx\u001b[49m\u001b[43m]\u001b[49m \u001b[38;5;28;01mfor\u001b[39;00m idx \u001b[38;5;129;01min\u001b[39;00m possibly_batched_index]\n\u001b[0;32m     53\u001b[0m \u001b[38;5;28;01melse\u001b[39;00m:\n\u001b[0;32m     54\u001b[0m     data \u001b[38;5;241m=\u001b[39m \u001b[38;5;28mself\u001b[39m\u001b[38;5;241m.\u001b[39mdataset[possibly_batched_index]\n",
      "File \u001b[1;32mc:\\Users\\Stas\\Desktop\\Practice\\Cityscapes_Segmentation\\func.py:44\u001b[0m, in \u001b[0;36mCustomData.__getitem__\u001b[1;34m(self, idx)\u001b[0m\n\u001b[0;32m     41\u001b[0m img_in \u001b[38;5;241m=\u001b[39m img_in\u001b[38;5;241m.\u001b[39mpermute(\u001b[38;5;241m2\u001b[39m, \u001b[38;5;241m0\u001b[39m, \u001b[38;5;241m1\u001b[39m) \u001b[38;5;66;03m# Put channels first, cause Conv2D works that way\u001b[39;00m\n\u001b[0;32m     43\u001b[0m img_out \u001b[38;5;241m=\u001b[39m img[:,\u001b[38;5;241m256\u001b[39m:,:] \u001b[38;5;66;03m# Extract output image\u001b[39;00m\n\u001b[1;32m---> 44\u001b[0m img_out \u001b[38;5;241m=\u001b[39m \u001b[43mrgb2class\u001b[49m\u001b[43m(\u001b[49m\u001b[43mimg_out\u001b[49m\u001b[43m,\u001b[49m\u001b[43m \u001b[49m\u001b[43mreturn_onehot\u001b[49m\u001b[38;5;241;43m=\u001b[39;49m\u001b[38;5;28;43mself\u001b[39;49m\u001b[38;5;241;43m.\u001b[39;49m\u001b[43mreturn_onehot\u001b[49m\u001b[43m)\u001b[49m \u001b[38;5;66;03m# Reassign channels meaning from RGB values to class labels\u001b[39;00m\n\u001b[0;32m     45\u001b[0m img_out \u001b[38;5;241m=\u001b[39m torch\u001b[38;5;241m.\u001b[39mfrom_numpy(img_out)\u001b[38;5;241m.\u001b[39mfloat()\n\u001b[0;32m     46\u001b[0m \u001b[38;5;28;01mif\u001b[39;00m \u001b[38;5;28mself\u001b[39m\u001b[38;5;241m.\u001b[39mreturn_onehot:\n",
      "File \u001b[1;32mc:\\Users\\Stas\\Desktop\\Practice\\Cityscapes_Segmentation\\func.py:63\u001b[0m, in \u001b[0;36mrgb2class\u001b[1;34m(img_out, return_onehot)\u001b[0m\n\u001b[0;32m     60\u001b[0m num_classes \u001b[38;5;241m=\u001b[39m \u001b[38;5;28mlen\u001b[39m(COLORMAP)\n\u001b[0;32m     62\u001b[0m dst_v \u001b[38;5;241m=\u001b[39m np\u001b[38;5;241m.\u001b[39mexpand_dims(img_out, axis\u001b[38;5;241m=\u001b[39m\u001b[38;5;241m0\u001b[39m) \u001b[38;5;241m-\u001b[39m COLORMAP\u001b[38;5;241m.\u001b[39mreshape(num_classes, \u001b[38;5;241m1\u001b[39m, \u001b[38;5;241m1\u001b[39m, \u001b[38;5;241m3\u001b[39m) \u001b[38;5;66;03m# Distance vectors from each pixel to each color from colormap\u001b[39;00m\n\u001b[1;32m---> 63\u001b[0m dst \u001b[38;5;241m=\u001b[39m \u001b[43mnp\u001b[49m\u001b[38;5;241;43m.\u001b[39;49m\u001b[43mlinalg\u001b[49m\u001b[38;5;241;43m.\u001b[39;49m\u001b[43mnorm\u001b[49m\u001b[43m(\u001b[49m\u001b[43mdst_v\u001b[49m\u001b[43m,\u001b[49m\u001b[43m \u001b[49m\u001b[43maxis\u001b[49m\u001b[38;5;241;43m=\u001b[39;49m\u001b[38;5;241;43m3\u001b[39;49m\u001b[43m)\u001b[49m \u001b[38;5;66;03m# Norm of distance vectors (means Euclidian distance from each pixel to each color from colormap)\u001b[39;00m\n\u001b[0;32m     64\u001b[0m indeces \u001b[38;5;241m=\u001b[39m np\u001b[38;5;241m.\u001b[39margmin(dst, axis\u001b[38;5;241m=\u001b[39m\u001b[38;5;241m0\u001b[39m) \u001b[38;5;66;03m# Indeces of minimal Euclidian distance (index corresponds to color from colormap)\u001b[39;00m\n\u001b[0;32m     65\u001b[0m \u001b[38;5;28;01mif\u001b[39;00m return_onehot:\n",
      "File \u001b[1;32mc:\\Users\\Stas\\anaconda3\\envs\\pytorch_env\\lib\\site-packages\\numpy\\linalg\\linalg.py:2583\u001b[0m, in \u001b[0;36mnorm\u001b[1;34m(x, ord, axis, keepdims)\u001b[0m\n\u001b[0;32m   2580\u001b[0m \u001b[38;5;28;01melif\u001b[39;00m \u001b[38;5;28mord\u001b[39m \u001b[38;5;129;01mis\u001b[39;00m \u001b[38;5;28;01mNone\u001b[39;00m \u001b[38;5;129;01mor\u001b[39;00m \u001b[38;5;28mord\u001b[39m \u001b[38;5;241m==\u001b[39m \u001b[38;5;241m2\u001b[39m:\n\u001b[0;32m   2581\u001b[0m     \u001b[38;5;66;03m# special case for speedup\u001b[39;00m\n\u001b[0;32m   2582\u001b[0m     s \u001b[38;5;241m=\u001b[39m (x\u001b[38;5;241m.\u001b[39mconj() \u001b[38;5;241m*\u001b[39m x)\u001b[38;5;241m.\u001b[39mreal\n\u001b[1;32m-> 2583\u001b[0m     \u001b[38;5;28;01mreturn\u001b[39;00m \u001b[43msqrt\u001b[49m\u001b[43m(\u001b[49m\u001b[43madd\u001b[49m\u001b[38;5;241;43m.\u001b[39;49m\u001b[43mreduce\u001b[49m\u001b[43m(\u001b[49m\u001b[43ms\u001b[49m\u001b[43m,\u001b[49m\u001b[43m \u001b[49m\u001b[43maxis\u001b[49m\u001b[38;5;241;43m=\u001b[39;49m\u001b[43maxis\u001b[49m\u001b[43m,\u001b[49m\u001b[43m \u001b[49m\u001b[43mkeepdims\u001b[49m\u001b[38;5;241;43m=\u001b[39;49m\u001b[43mkeepdims\u001b[49m\u001b[43m)\u001b[49m\u001b[43m)\u001b[49m\n\u001b[0;32m   2584\u001b[0m \u001b[38;5;66;03m# None of the str-type keywords for ord ('fro', 'nuc')\u001b[39;00m\n\u001b[0;32m   2585\u001b[0m \u001b[38;5;66;03m# are valid for vectors\u001b[39;00m\n\u001b[0;32m   2586\u001b[0m \u001b[38;5;28;01melif\u001b[39;00m \u001b[38;5;28misinstance\u001b[39m(\u001b[38;5;28mord\u001b[39m, \u001b[38;5;28mstr\u001b[39m):\n",
      "\u001b[1;31mKeyboardInterrupt\u001b[0m: "
     ]
    }
   ],
   "source": [
    "net, history_loss, history_accuracy, history_dsc = train(data_train, lr=0.2, n_epochs=50, device=device, seed=0)"
   ]
  },
  {
   "cell_type": "code",
   "execution_count": null,
   "metadata": {},
   "outputs": [],
   "source": [
    "torch.save(net.state_dict(), 'fcn.tar')"
   ]
  },
  {
   "cell_type": "code",
   "execution_count": null,
   "metadata": {},
   "outputs": [],
   "source": [
    "fig = plot_learning_curve(history_loss)\n",
    "fig.savefig('learning_curve_loss.png')"
   ]
  },
  {
   "cell_type": "code",
   "execution_count": null,
   "metadata": {},
   "outputs": [],
   "source": [
    "fig = plot_learning_curve(history_accuracy)\n",
    "fig.savefig('learning_curve_accuracy.png')"
   ]
  },
  {
   "cell_type": "code",
   "execution_count": null,
   "metadata": {},
   "outputs": [],
   "source": [
    "fig = plot_learning_curve(history_dsc)\n",
    "fig.savefig('learning_curve_dsc.png')"
   ]
  },
  {
   "cell_type": "code",
   "execution_count": null,
   "metadata": {},
   "outputs": [],
   "source": [
    "# Plot several images from valid data\n",
    "\n",
    "for idx in range(5):\n",
    "    img, target_mask = dataset_valid[idx] # Take image from dataset\n",
    "    predict = net(img.to(device)) # Make prediction\n",
    "    predict_mask = predict.argmax(dim=0).to('cpu') # Extract prediction mask\n",
    "\n",
    "    # Construct images from input and masks\n",
    "    img_in = img.permute(1, 2, 0)\n",
    "    img_target = mask2image(target_mask.long())\n",
    "    img_predict = mask2image(predict_mask)\n",
    "\n",
    "    # Plot images\n",
    "    fig = plot_masks(img.permute(1, 2, 0), img_target, img_predict)"
   ]
  },
  {
   "cell_type": "code",
   "execution_count": null,
   "metadata": {},
   "outputs": [],
   "source": [
    "fig.savefig('result_example.png')"
   ]
  },
  {
   "cell_type": "code",
   "execution_count": null,
   "metadata": {},
   "outputs": [],
   "source": []
  },
  {
   "cell_type": "code",
   "execution_count": null,
   "metadata": {},
   "outputs": [],
   "source": []
  },
  {
   "cell_type": "code",
   "execution_count": null,
   "metadata": {},
   "outputs": [],
   "source": []
  },
  {
   "cell_type": "code",
   "execution_count": null,
   "metadata": {},
   "outputs": [],
   "source": []
  }
 ],
 "metadata": {
  "kernelspec": {
   "display_name": "pytorch_env",
   "language": "python",
   "name": "python3"
  },
  "language_info": {
   "codemirror_mode": {
    "name": "ipython",
    "version": 3
   },
   "file_extension": ".py",
   "mimetype": "text/x-python",
   "name": "python",
   "nbconvert_exporter": "python",
   "pygments_lexer": "ipython3",
   "version": "3.10.0"
  }
 },
 "nbformat": 4,
 "nbformat_minor": 2
}
