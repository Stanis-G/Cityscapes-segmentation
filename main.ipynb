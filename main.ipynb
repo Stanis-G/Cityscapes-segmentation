{
 "cells": [
  {
   "cell_type": "markdown",
   "metadata": {},
   "source": [
    "Dataset is taken from https://www.kaggle.com/datasets/dansbecker/cityscapes-image-pairs?select=cityscapes_data"
   ]
  },
  {
   "cell_type": "code",
   "execution_count": null,
   "metadata": {},
   "outputs": [],
   "source": [
    "import os\n",
    "\n",
    "import torch\n",
    "from torch.optim import Adam\n",
    "from torch.utils.data import DataLoader\n",
    "\n",
    "from func import CustomData, pixel_accuracy, dsc_score, CrossEntropyWithDiceLoss, plot_learning_curve, mask2image, plot_masks\n",
    "from models import FCN, Unet"
   ]
  },
  {
   "cell_type": "code",
   "execution_count": null,
   "metadata": {},
   "outputs": [],
   "source": [
    "dataset_train = CustomData('train')\n",
    "dataset_valid = CustomData('val')\n",
    "\n",
    "print(len(dataset_train), len(dataset_valid))"
   ]
  },
  {
   "cell_type": "code",
   "execution_count": null,
   "metadata": {},
   "outputs": [],
   "source": [
    "batch_size = 32\n",
    "\n",
    "data_train = DataLoader(dataset_train, batch_size=batch_size, shuffle=True)\n",
    "data_valid = DataLoader(dataset_valid, batch_size=batch_size, shuffle=False)"
   ]
  },
  {
   "cell_type": "code",
   "execution_count": null,
   "metadata": {},
   "outputs": [],
   "source": [
    "device = 'cuda' if torch.cuda.is_available() else 'cpu'\n",
    "device"
   ]
  },
  {
   "cell_type": "code",
   "execution_count": null,
   "metadata": {},
   "outputs": [],
   "source": [
    "def train(model, data_train, lr, n_epochs, device, seed=None):\n",
    "\n",
    "    if seed is not None:\n",
    "        # Set seed for reproducibility\n",
    "        torch.manual_seed(seed)\n",
    "        torch.cuda.manual_seed_all(seed)\n",
    "\n",
    "    model = model.to(device)\n",
    "\n",
    "    optimizer = Adam(params=model.parameters(), lr=lr)\n",
    "    loss_func = CrossEntropyWithDiceLoss()\n",
    "\n",
    "    train_loss_lst, valid_loss_lst = [], []\n",
    "    train_accuracy_lst, valid_accuracy_lst = []\n",
    "    train_dsc_lst, valid_dsc_lst = [], []\n",
    "\n",
    "    for epoch in range(n_epochs):\n",
    "        train_loss, train_acc, train_dsc = 0, 0, 0\n",
    "        model.train()\n",
    "        for x_train, y_train in data_train:\n",
    "\n",
    "            x_train = x_train.to(device)\n",
    "            y_train = y_train.to(device)\n",
    "\n",
    "            predict = model(x_train)\n",
    "            loss = loss_func(predict, y_train.long())\n",
    "\n",
    "            optimizer.zero_grad()\n",
    "            loss.backward()\n",
    "            optimizer.step()\n",
    "\n",
    "            train_loss += loss.item()\n",
    "            train_acc += pixel_accuracy(predict, y_train)\n",
    "            train_dsc += dsc_score(predict, y_train.long())\n",
    "\n",
    "        # Take mean of metrics by all batches, add to list for history\n",
    "        train_loss /= len(data_train)\n",
    "        train_loss_lst.append(train_loss)\n",
    "        train_acc /= len(data_train)\n",
    "        train_accuracy_lst.append(train_acc)\n",
    "        train_dsc /= len(data_train)\n",
    "        train_dsc_lst.append(train_dsc)\n",
    "\n",
    "        # Validation\n",
    "        valid_loss, valid_acc, valid_dsc = 0, 0, 0\n",
    "        model.eval()\n",
    "        with torch.no_grad():\n",
    "            for x_valid, y_valid in data_valid:\n",
    "                x_valid, y_valid = x_valid.to(device), y_valid.to(device)\n",
    "                predict = model(x_valid)\n",
    "                valid_loss += loss_func(predict, y_valid.long()).item()\n",
    "                valid_acc += pixel_accuracy(predict, y_valid)\n",
    "                valid_dsc += dsc_score(predict, y_valid.long())\n",
    "\n",
    "        # Take mean of metrics by all batches, add to list for history\n",
    "        valid_loss /= len(data_valid)\n",
    "        valid_loss_lst.append(valid_loss)\n",
    "        valid_acc /= len(data_valid)\n",
    "        valid_accuracy_lst.append(valid_acc)\n",
    "        valid_dsc /= len(data_valid)\n",
    "        valid_dsc_lst.append(valid_dsc)\n",
    "\n",
    "        if (epoch + 1) % 10 == 0:\n",
    "            torch.save(model.state_dict(), f'backup_{epoch+1}.tar')\n",
    "\n",
    "        print(f'Epoch {epoch+1} | Train Loss: {train_loss:.4f} | Train Accuracy: {train_acc:.4f}| Valid Loss: {valid_loss:.4f} | Valid Accuracy: {valid_acc:.4f}')\n",
    "\n",
    "    history_loss = dict(\n",
    "        train_loss=train_loss_lst,\n",
    "        valid_loss=valid_loss_lst,\n",
    "    )\n",
    "\n",
    "    history_accuracy = dict(\n",
    "        train_accuracy=train_accuracy_lst,\n",
    "        valid_accuracy=valid_accuracy_lst,\n",
    "    )\n",
    "\n",
    "    history_dsc = dict(\n",
    "        train_dsc=train_dsc_lst,\n",
    "        valid_dsc=valid_dsc_lst,\n",
    "    )\n",
    "\n",
    "    return model, history_loss, history_accuracy, history_dsc"
   ]
  },
  {
   "cell_type": "code",
   "execution_count": null,
   "metadata": {},
   "outputs": [],
   "source": [
    "net, history_loss, history_accuracy, history_dsc = train(FCN(0.1), data_train, lr=0.01, n_epochs=100, device=device, seed=0)"
   ]
  },
  {
   "cell_type": "code",
   "execution_count": null,
   "metadata": {},
   "outputs": [],
   "source": [
    "# Save model\n",
    "\n",
    "model_fold = 'models'\n",
    "model_name = type(net).__name__\n",
    "filename = f'{model_name}.tar'\n",
    "torch.save(net.state_dict(), os.path.join(model_fold, filename))"
   ]
  },
  {
   "cell_type": "code",
   "execution_count": null,
   "metadata": {},
   "outputs": [],
   "source": [
    "plot_fold = 'plots'\n",
    "\n",
    "fig = plot_learning_curve(history_loss)\n",
    "fig.savefig(os.path.join(plot_fold, f'{model_name}_learning_curve_loss.png'))\n",
    "\n",
    "fig = plot_learning_curve(history_accuracy)\n",
    "fig.savefig(os.path.join(plot_fold, f'{model_name}_learning_curve_accuracy.png'))\n",
    "\n",
    "fig = plot_learning_curve(history_dsc)\n",
    "fig.savefig(os.path.join(plot_fold, f'{model_name}_learning_curve_dsc.png'))"
   ]
  },
  {
   "cell_type": "code",
   "execution_count": null,
   "metadata": {},
   "outputs": [],
   "source": [
    "# Plot several images from valid data\n",
    "\n",
    "device = 'cpu'\n",
    "\n",
    "net = net.to(device)\n",
    "for idx in range(5):\n",
    "    img, target_mask = dataset_valid[idx] # Take image from dataset\n",
    "    predict = net(img.unsqueeze(0).to(device)).squeeze() # Make prediction\n",
    "    predict_mask = predict.argmax(dim=0).to(device) # Extract prediction mask\n",
    "\n",
    "    # Construct images from input and masks\n",
    "    img_in = img.permute(1, 2, 0)\n",
    "    img_target = mask2image(target_mask.long())\n",
    "    img_predict = mask2image(predict_mask)\n",
    "\n",
    "    # Plot images\n",
    "    fig = plot_masks(img.permute(1, 2, 0), img_target, img_predict)\n",
    "\n",
    "fig.savefig()\n",
    "fig.savefig(os.path.join(plot_fold, f'{model_name}_result_example.png'))"
   ]
  },
  {
   "cell_type": "code",
   "execution_count": null,
   "metadata": {},
   "outputs": [],
   "source": []
  },
  {
   "cell_type": "code",
   "execution_count": null,
   "metadata": {},
   "outputs": [],
   "source": []
  },
  {
   "cell_type": "code",
   "execution_count": null,
   "metadata": {},
   "outputs": [],
   "source": []
  },
  {
   "cell_type": "code",
   "execution_count": null,
   "metadata": {},
   "outputs": [],
   "source": []
  },
  {
   "cell_type": "code",
   "execution_count": null,
   "metadata": {},
   "outputs": [],
   "source": []
  }
 ],
 "metadata": {
  "kernelspec": {
   "display_name": "pytorch_env",
   "language": "python",
   "name": "python3"
  },
  "language_info": {
   "codemirror_mode": {
    "name": "ipython",
    "version": 3
   },
   "file_extension": ".py",
   "mimetype": "text/x-python",
   "name": "python",
   "nbconvert_exporter": "python",
   "pygments_lexer": "ipython3",
   "version": "3.10.0"
  }
 },
 "nbformat": 4,
 "nbformat_minor": 2
}
